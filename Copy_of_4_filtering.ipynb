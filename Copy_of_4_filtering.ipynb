{
  "nbformat": 4,
  "nbformat_minor": 0,
  "metadata": {
    "kernelspec": {
      "display_name": "Python 3",
      "language": "python",
      "name": "python3"
    },
    "language_info": {
      "codemirror_mode": {
        "name": "ipython",
        "version": 3
      },
      "file_extension": ".py",
      "mimetype": "text/x-python",
      "name": "python",
      "nbconvert_exporter": "python",
      "pygments_lexer": "ipython3",
      "version": "3.7.4"
    },
    "colab": {
      "name": "Copy of 4-filtering.ipynb",
      "provenance": [],
      "include_colab_link": true
    }
  },
  "cells": [
    {
      "cell_type": "markdown",
      "metadata": {
        "id": "view-in-github",
        "colab_type": "text"
      },
      "source": [
        "<a href=\"https://colab.research.google.com/github/ludawg44/100-Days-Of-ML-Code/blob/master/Copy_of_4_filtering.ipynb\" target=\"_parent\"><img src=\"https://colab.research.google.com/assets/colab-badge.svg\" alt=\"Open In Colab\"/></a>"
      ]
    },
    {
      "cell_type": "markdown",
      "metadata": {
        "id": "o2BqPtIlav6N",
        "colab_type": "text"
      },
      "source": [
        "# Filtering Data in Numpy"
      ]
    },
    {
      "cell_type": "markdown",
      "metadata": {
        "id": "paMFdFjfav6P",
        "colab_type": "text"
      },
      "source": [
        "### Introduction"
      ]
    },
    {
      "cell_type": "markdown",
      "metadata": {
        "id": "lfTynrErav6Q",
        "colab_type": "text"
      },
      "source": [
        "Now that we know how to work with multidimensional arrays, the next step is to lern how to filter by some criteria.  Let's check it out."
      ]
    },
    {
      "cell_type": "markdown",
      "metadata": {
        "id": "i-ZIHrc8av6R",
        "colab_type": "text"
      },
      "source": [
        "### Broadcasting with Boolean Operators"
      ]
    },
    {
      "cell_type": "markdown",
      "metadata": {
        "id": "niG_8evyav6S",
        "colab_type": "text"
      },
      "source": [
        "To start, let's introduce another way of select entries from an array in numpy.  We'll first initialize a new array of values zero through 4."
      ]
    },
    {
      "cell_type": "code",
      "metadata": {
        "id": "NKraSn42av6U",
        "colab_type": "code",
        "outputId": "cb85f045-b662-4894-ec01-025f55298b4b",
        "colab": {}
      },
      "source": [
        "import numpy as np\n",
        "range_nums = np.arange(5)\n",
        "range_nums"
      ],
      "execution_count": 0,
      "outputs": [
        {
          "output_type": "execute_result",
          "data": {
            "text/plain": [
              "array([0, 1, 2, 3, 4])"
            ]
          },
          "metadata": {
            "tags": []
          },
          "execution_count": 1
        }
      ]
    },
    {
      "cell_type": "markdown",
      "metadata": {
        "id": "ntpD-rQ-av6Y",
        "colab_type": "text"
      },
      "source": [
        "> Note that if we just pass the number 5 to `arange` numpy still returns 5 items, starting from zero."
      ]
    },
    {
      "cell_type": "markdown",
      "metadata": {
        "id": "EalGT61wav6Y",
        "colab_type": "text"
      },
      "source": [
        "Ok, so if we want to select every other item from the array above, one way is to create an array of alternating `True` and `False` values..."
      ]
    },
    {
      "cell_type": "code",
      "metadata": {
        "id": "CZf4oclJav6Z",
        "colab_type": "code",
        "outputId": "83d75a08-bcf2-4bba-eb0f-4368930ae6e5",
        "colab": {}
      },
      "source": [
        "bool_vals = np.array([True, False, True, False, True])\n",
        "bool_vals"
      ],
      "execution_count": 0,
      "outputs": [
        {
          "output_type": "execute_result",
          "data": {
            "text/plain": [
              "array([ True, False,  True, False,  True])"
            ]
          },
          "metadata": {
            "tags": []
          },
          "execution_count": 29
        }
      ]
    },
    {
      "cell_type": "markdown",
      "metadata": {
        "id": "2lwtMIouav6b",
        "colab_type": "text"
      },
      "source": [
        "And then use this boolean array to select items from our `range_nums` array above."
      ]
    },
    {
      "cell_type": "code",
      "metadata": {
        "id": "y2LfLX9Zav6c",
        "colab_type": "code",
        "outputId": "b69c4477-3dba-443b-ae3d-8a44c95149e8",
        "colab": {}
      },
      "source": [
        "range_nums[bool_vals]"
      ],
      "execution_count": 0,
      "outputs": [
        {
          "output_type": "execute_result",
          "data": {
            "text/plain": [
              "array([0, 2, 4])"
            ]
          },
          "metadata": {
            "tags": []
          },
          "execution_count": 31
        }
      ]
    },
    {
      "cell_type": "markdown",
      "metadata": {
        "id": "t9NmbWAnav6f",
        "colab_type": "text"
      },
      "source": [
        "> Let's see that again."
      ]
    },
    {
      "cell_type": "code",
      "metadata": {
        "id": "qHtznRWbav6g",
        "colab_type": "code",
        "outputId": "f463742a-f46a-463d-a681-8d6d78f43b8f",
        "colab": {}
      },
      "source": [
        "bool_vals = np.array([True, False, True, False, True])\n",
        "arr = np.array([0, 1, 2, 3, 4])\n",
        "\n",
        "arr[bool_vals]"
      ],
      "execution_count": 0,
      "outputs": [
        {
          "output_type": "execute_result",
          "data": {
            "text/plain": [
              "array([0, 2, 4])"
            ]
          },
          "metadata": {
            "tags": []
          },
          "execution_count": 2
        }
      ]
    },
    {
      "cell_type": "markdown",
      "metadata": {
        "id": "1b0guc0Aav6i",
        "colab_type": "text"
      },
      "source": [
        "So we are provide the True or False value to indicate whether to select an item at that index."
      ]
    },
    {
      "cell_type": "markdown",
      "metadata": {
        "id": "pn65zzHLav6j",
        "colab_type": "text"
      },
      "source": [
        "This procedure is called **boolean indexing**."
      ]
    },
    {
      "cell_type": "markdown",
      "metadata": {
        "id": "fVzMdcKNav6k",
        "colab_type": "text"
      },
      "source": [
        "### Boolean Indexing Rows"
      ]
    },
    {
      "cell_type": "markdown",
      "metadata": {
        "id": "jp9EvxSQav6k",
        "colab_type": "text"
      },
      "source": [
        "Notice that we can also use **boolean indexing** on a row of data.  Let's first initialize some data that makes this clear.  "
      ]
    },
    {
      "cell_type": "markdown",
      "metadata": {
        "id": "LUuGiFfrav6l",
        "colab_type": "text"
      },
      "source": [
        "> We initialize a new array where each the items in each row increase.  The `indices` method, which is not that important, accomplishes this."
      ]
    },
    {
      "cell_type": "code",
      "metadata": {
        "id": "pCuQzlsHav6m",
        "colab_type": "code",
        "outputId": "51e8583e-ac7b-4037-ad1a-628001f04e41",
        "colab": {}
      },
      "source": [
        "grid = np.indices([5,5])[0]\n",
        "grid"
      ],
      "execution_count": 0,
      "outputs": [
        {
          "output_type": "execute_result",
          "data": {
            "text/plain": [
              "array([[0, 0, 0, 0, 0],\n",
              "       [1, 1, 1, 1, 1],\n",
              "       [2, 2, 2, 2, 2],\n",
              "       [3, 3, 3, 3, 3],\n",
              "       [4, 4, 4, 4, 4]])"
            ]
          },
          "metadata": {
            "tags": []
          },
          "execution_count": 3
        }
      ]
    },
    {
      "cell_type": "markdown",
      "metadata": {
        "id": "ljTRzZTuav6p",
        "colab_type": "text"
      },
      "source": [
        "Then we can use our boolean array to select every other row from the above array."
      ]
    },
    {
      "cell_type": "code",
      "metadata": {
        "id": "9WY6NeLtav6q",
        "colab_type": "code",
        "outputId": "29aa97f8-8b89-40bb-8df7-0571b62cd7fa",
        "colab": {}
      },
      "source": [
        "bool_vals"
      ],
      "execution_count": 0,
      "outputs": [
        {
          "output_type": "execute_result",
          "data": {
            "text/plain": [
              "array([ True, False,  True, False,  True])"
            ]
          },
          "metadata": {
            "tags": []
          },
          "execution_count": 65
        }
      ]
    },
    {
      "cell_type": "code",
      "metadata": {
        "id": "p853UiLDav6s",
        "colab_type": "code",
        "outputId": "5677f603-e954-40b8-a20f-92164a0e16ec",
        "colab": {}
      },
      "source": [
        "grid[bool_vals]"
      ],
      "execution_count": 0,
      "outputs": [
        {
          "output_type": "execute_result",
          "data": {
            "text/plain": [
              "array([[0, 0, 0, 0, 0],\n",
              "       [2, 2, 2, 2, 2],\n",
              "       [4, 4, 4, 4, 4]])"
            ]
          },
          "metadata": {
            "tags": []
          },
          "execution_count": 66
        }
      ]
    },
    {
      "cell_type": "markdown",
      "metadata": {
        "id": "Fjxr0o65av6v",
        "colab_type": "text"
      },
      "source": [
        "### Onto Filtering Data"
      ]
    },
    {
      "cell_type": "markdown",
      "metadata": {
        "id": "R72LyTAvav6v",
        "colab_type": "text"
      },
      "source": [
        "Now what does this have to do with filtering data you ask?  Well just like with ordinary Python we can use boolean operators on an array in numpy."
      ]
    },
    {
      "cell_type": "markdown",
      "metadata": {
        "id": "p0frzdcLav6w",
        "colab_type": "text"
      },
      "source": [
        "Let's see this on a grid of numbers one through twenty five."
      ]
    },
    {
      "cell_type": "code",
      "metadata": {
        "id": "oqvpMCPyav6x",
        "colab_type": "code",
        "outputId": "cb2789e2-4e7e-4210-e5bb-a744981ed8e3",
        "colab": {}
      },
      "source": [
        "increasing_grid = np.arange(1, 26).reshape(5, 5)\n",
        "increasing_grid"
      ],
      "execution_count": 0,
      "outputs": [
        {
          "output_type": "execute_result",
          "data": {
            "text/plain": [
              "array([[ 1,  2,  3,  4,  5],\n",
              "       [ 6,  7,  8,  9, 10],\n",
              "       [11, 12, 13, 14, 15],\n",
              "       [16, 17, 18, 19, 20],\n",
              "       [21, 22, 23, 24, 25]])"
            ]
          },
          "metadata": {
            "tags": []
          },
          "execution_count": 71
        }
      ]
    },
    {
      "cell_type": "markdown",
      "metadata": {
        "id": "Kx7nG9XUav6z",
        "colab_type": "text"
      },
      "source": [
        "Now let's return `True` or `False` based on whether the second item less than 10.  Notice that  the first two rows meet this criteria."
      ]
    },
    {
      "cell_type": "markdown",
      "metadata": {
        "id": "sGkgP5Bpav60",
        "colab_type": "text"
      },
      "source": [
        "We can use broadcasting to see this."
      ]
    },
    {
      "cell_type": "code",
      "metadata": {
        "id": "CdvVQnisav60",
        "colab_type": "code",
        "outputId": "52540a87-7b10-4fc2-ff73-ebbfb2eabd0b",
        "colab": {}
      },
      "source": [
        "new_bools = increasing_grid[:, 1] < 10\n",
        "new_bools"
      ],
      "execution_count": 0,
      "outputs": [
        {
          "output_type": "execute_result",
          "data": {
            "text/plain": [
              "array([ True,  True, False, False, False])"
            ]
          },
          "metadata": {
            "tags": []
          },
          "execution_count": 82
        }
      ]
    },
    {
      "cell_type": "markdown",
      "metadata": {
        "id": "3t8FBcjiav63",
        "colab_type": "text"
      },
      "source": [
        "And then we can use these values to select the appropriate rows."
      ]
    },
    {
      "cell_type": "code",
      "metadata": {
        "id": "0PMI7nbNav64",
        "colab_type": "code",
        "outputId": "bd1a8e74-1a08-4944-c492-f577562f61b8",
        "colab": {}
      },
      "source": [
        "increasing_grid[new_bools]"
      ],
      "execution_count": 0,
      "outputs": [
        {
          "output_type": "execute_result",
          "data": {
            "text/plain": [
              "array([[ 1,  2,  3,  4,  5],\n",
              "       [ 6,  7,  8,  9, 10]])"
            ]
          },
          "metadata": {
            "tags": []
          },
          "execution_count": 83
        }
      ]
    },
    {
      "cell_type": "markdown",
      "metadata": {
        "id": "4trPdYCTav66",
        "colab_type": "text"
      },
      "source": [
        "And this just returns us the first two rows."
      ]
    },
    {
      "cell_type": "markdown",
      "metadata": {
        "id": "K5vByIUMav67",
        "colab_type": "text"
      },
      "source": [
        "> But generally, we will see all of this in one step:"
      ]
    },
    {
      "cell_type": "code",
      "metadata": {
        "id": "kcnqcBKwav67",
        "colab_type": "code",
        "outputId": "8a1ec0cd-df54-4762-c697-497eca371601",
        "colab": {}
      },
      "source": [
        "increasing_grid"
      ],
      "execution_count": 0,
      "outputs": [
        {
          "output_type": "execute_result",
          "data": {
            "text/plain": [
              "array([[ 1,  2,  3,  4,  5],\n",
              "       [ 6,  7,  8,  9, 10],\n",
              "       [11, 12, 13, 14, 15],\n",
              "       [16, 17, 18, 19, 20],\n",
              "       [21, 22, 23, 24, 25]])"
            ]
          },
          "metadata": {
            "tags": []
          },
          "execution_count": 84
        }
      ]
    },
    {
      "cell_type": "code",
      "metadata": {
        "id": "zpDW7Jmnav6-",
        "colab_type": "code",
        "outputId": "6d0f30f6-1db5-4031-d096-bc044e7e50bb",
        "colab": {}
      },
      "source": [
        "increasing_grid[increasing_grid[:, 1] < 10]"
      ],
      "execution_count": 0,
      "outputs": [
        {
          "output_type": "execute_result",
          "data": {
            "text/plain": [
              "array([[ 1,  2,  3,  4,  5],\n",
              "       [ 6,  7,  8,  9, 10]])"
            ]
          },
          "metadata": {
            "tags": []
          },
          "execution_count": 85
        }
      ]
    },
    {
      "cell_type": "markdown",
      "metadata": {
        "id": "RwhtFmGcav7C",
        "colab_type": "text"
      },
      "source": [
        "This says select the rows where the second item is less than 10."
      ]
    },
    {
      "cell_type": "markdown",
      "metadata": {
        "id": "jLvkCdK6av7C",
        "colab_type": "text"
      },
      "source": [
        "* Your turn"
      ]
    },
    {
      "cell_type": "markdown",
      "metadata": {
        "id": "tS-Furh6av7D",
        "colab_type": "text"
      },
      "source": [
        "Try to select all of the rows where the last element is 20."
      ]
    },
    {
      "cell_type": "code",
      "metadata": {
        "id": "izr1xkVpav7E",
        "colab_type": "code",
        "outputId": "76612ba7-d831-40c1-a79f-528bde13b65c",
        "colab": {}
      },
      "source": [
        "increasing_grid[increasing_grid[:, -1] == 20]\n",
        "\n",
        "# array([[16, 17, 18, 19, 20]])"
      ],
      "execution_count": 0,
      "outputs": [
        {
          "output_type": "execute_result",
          "data": {
            "text/plain": [
              "array([[16, 17, 18, 19, 20]])"
            ]
          },
          "metadata": {
            "tags": []
          },
          "execution_count": 86
        }
      ]
    },
    {
      "cell_type": "markdown",
      "metadata": {
        "id": "gI5kAf8Jav7G",
        "colab_type": "text"
      },
      "source": [
        "We should only return the second to last row."
      ]
    },
    {
      "cell_type": "markdown",
      "metadata": {
        "id": "Xe6TFQb6av7H",
        "colab_type": "text"
      },
      "source": [
        "### Filtering even or odd"
      ]
    },
    {
      "cell_type": "markdown",
      "metadata": {
        "id": "QqMw7uSgav7I",
        "colab_type": "text"
      },
      "source": [
        "Next let's review filtering by only selecting the rows that have an even number in the third column."
      ]
    },
    {
      "cell_type": "markdown",
      "metadata": {
        "id": "4_MGuBu1av7I",
        "colab_type": "text"
      },
      "source": [
        "> First we'll give you an opportunity to try this yourself."
      ]
    },
    {
      "cell_type": "code",
      "metadata": {
        "id": "NZW3P2Zkav7J",
        "colab_type": "code",
        "outputId": "f866dba8-cde4-4716-f52b-4e3f06d805eb",
        "colab": {}
      },
      "source": [
        "import numpy as np\n",
        "increasing_grid = np.arange(1, 26).reshape(5, 5)\n",
        "increasing_grid"
      ],
      "execution_count": 0,
      "outputs": [
        {
          "output_type": "execute_result",
          "data": {
            "text/plain": [
              "array([[ 1,  2,  3,  4,  5],\n",
              "       [ 6,  7,  8,  9, 10],\n",
              "       [11, 12, 13, 14, 15],\n",
              "       [16, 17, 18, 19, 20],\n",
              "       [21, 22, 23, 24, 25]])"
            ]
          },
          "metadata": {
            "tags": []
          },
          "execution_count": 5
        }
      ]
    },
    {
      "cell_type": "markdown",
      "metadata": {
        "id": "3_JS6bECav7L",
        "colab_type": "text"
      },
      "source": [
        "> Doing so, requires knowledge of `%`, `modulo`, which returns the *remainder* of a divisor.  For example, below is the remainder of dividing each item in the above array by 2."
      ]
    },
    {
      "cell_type": "code",
      "metadata": {
        "id": "jMgUwiStav7L",
        "colab_type": "code",
        "outputId": "e178d260-801a-4151-81c3-ae8fd150570c",
        "colab": {}
      },
      "source": [
        "increasing_grid % 2"
      ],
      "execution_count": 0,
      "outputs": [
        {
          "output_type": "execute_result",
          "data": {
            "text/plain": [
              "array([[1, 0, 1, 0, 1],\n",
              "       [0, 1, 0, 1, 0],\n",
              "       [1, 0, 1, 0, 1],\n",
              "       [0, 1, 0, 1, 0],\n",
              "       [1, 0, 1, 0, 1]])"
            ]
          },
          "metadata": {
            "tags": []
          },
          "execution_count": 7
        }
      ]
    },
    {
      "cell_type": "markdown",
      "metadata": {
        "id": "fZtyUw08av7N",
        "colab_type": "text"
      },
      "source": [
        "Ok, now try using module to only select the rows that have an even number in the third column. "
      ]
    },
    {
      "cell_type": "markdown",
      "metadata": {
        "id": "UBhwSKHBav7O",
        "colab_type": "text"
      },
      "source": [
        "> Embrace the struggle...we'll show you the answer below."
      ]
    },
    {
      "cell_type": "code",
      "metadata": {
        "id": "wQfAFzuVav7P",
        "colab_type": "code",
        "outputId": "930f7659-5ade-48f1-9706-74ba2b8170a9",
        "colab": {}
      },
      "source": [
        "increasing_grid"
      ],
      "execution_count": 0,
      "outputs": [
        {
          "output_type": "execute_result",
          "data": {
            "text/plain": [
              "array([[ 1,  2,  3,  4,  5],\n",
              "       [ 6,  7,  8,  9, 10],\n",
              "       [11, 12, 13, 14, 15],\n",
              "       [16, 17, 18, 19, 20],\n",
              "       [21, 22, 23, 24, 25]])"
            ]
          },
          "metadata": {
            "tags": []
          },
          "execution_count": 8
        }
      ]
    },
    {
      "cell_type": "code",
      "metadata": {
        "id": "b97JgFkUav7Q",
        "colab_type": "code",
        "colab": {}
      },
      "source": [
        ""
      ],
      "execution_count": 0,
      "outputs": []
    },
    {
      "cell_type": "markdown",
      "metadata": {
        "id": "jSjOeLJxav7S",
        "colab_type": "text"
      },
      "source": [
        "## The answer"
      ]
    },
    {
      "cell_type": "markdown",
      "metadata": {
        "id": "b_PiTkXJav7T",
        "colab_type": "text"
      },
      "source": [
        "1. Select all the rows, the third column"
      ]
    },
    {
      "cell_type": "code",
      "metadata": {
        "id": "k1TPEGmuav7T",
        "colab_type": "code",
        "outputId": "7936c93d-f8d7-447a-d7c0-a720acc0227f",
        "colab": {}
      },
      "source": [
        "increasing_grid[:, 2]"
      ],
      "execution_count": 0,
      "outputs": [
        {
          "output_type": "execute_result",
          "data": {
            "text/plain": [
              "array([ 3,  8, 13, 18, 23])"
            ]
          },
          "metadata": {
            "tags": []
          },
          "execution_count": 6
        }
      ]
    },
    {
      "cell_type": "markdown",
      "metadata": {
        "id": "ZR9J28Zcav7V",
        "colab_type": "text"
      },
      "source": [
        "2. Then use broadcasting to query each item in that column"
      ]
    },
    {
      "cell_type": "code",
      "metadata": {
        "id": "OKj6GnIKav7V",
        "colab_type": "code",
        "outputId": "2aedaa7d-37c2-40e8-9f61-d77b0c9ad174",
        "colab": {}
      },
      "source": [
        "increasing_grid[:, 2] % 2"
      ],
      "execution_count": 0,
      "outputs": [
        {
          "output_type": "execute_result",
          "data": {
            "text/plain": [
              "array([1, 0, 1, 0, 1])"
            ]
          },
          "metadata": {
            "tags": []
          },
          "execution_count": 8
        }
      ]
    },
    {
      "cell_type": "markdown",
      "metadata": {
        "id": "27kle2Unav7Y",
        "colab_type": "text"
      },
      "source": [
        "> We use the `modulo` operator which returns the remainder. So here, modulo returns the remainder of dividing each item by 2.  So `3 % 2 = 1`.  "
      ]
    },
    {
      "cell_type": "markdown",
      "metadata": {
        "id": "paykRoyRav7Y",
        "colab_type": "text"
      },
      "source": [
        "> Where the `% 2 == 0`, our element is even."
      ]
    },
    {
      "cell_type": "code",
      "metadata": {
        "id": "ZZUyaq9Wav7Z",
        "colab_type": "code",
        "outputId": "2f9126ed-b06b-4015-f529-0387233f5ba1",
        "colab": {}
      },
      "source": [
        "increasing_grid[:, 2] % 2 == 0"
      ],
      "execution_count": 0,
      "outputs": [
        {
          "output_type": "execute_result",
          "data": {
            "text/plain": [
              "array([False,  True, False,  True, False])"
            ]
          },
          "metadata": {
            "tags": []
          },
          "execution_count": 9
        }
      ]
    },
    {
      "cell_type": "markdown",
      "metadata": {
        "id": "d4KGUU6eav7c",
        "colab_type": "text"
      },
      "source": [
        "3. Use boolean indexing"
      ]
    },
    {
      "cell_type": "markdown",
      "metadata": {
        "id": "H65eeJT7av7d",
        "colab_type": "text"
      },
      "source": [
        "Now we can find all of the rows where our third item is even."
      ]
    },
    {
      "cell_type": "code",
      "metadata": {
        "id": "yjHAzIZZav7d",
        "colab_type": "code",
        "outputId": "c9a45cc8-b1cb-43d6-8897-ce9145ad217a",
        "colab": {}
      },
      "source": [
        "increasing_grid"
      ],
      "execution_count": 0,
      "outputs": [
        {
          "output_type": "execute_result",
          "data": {
            "text/plain": [
              "array([[ 1,  2,  3,  4,  5],\n",
              "       [ 6,  7,  8,  9, 10],\n",
              "       [11, 12, 13, 14, 15],\n",
              "       [16, 17, 18, 19, 20],\n",
              "       [21, 22, 23, 24, 25]])"
            ]
          },
          "metadata": {
            "tags": []
          },
          "execution_count": 12
        }
      ]
    },
    {
      "cell_type": "code",
      "metadata": {
        "id": "xqi_e0loav7g",
        "colab_type": "code",
        "outputId": "bfdc4c19-6756-401c-edda-bec78aa50332",
        "colab": {}
      },
      "source": [
        "increasing_grid[increasing_grid[:, 2] % 2 == 0]"
      ],
      "execution_count": 0,
      "outputs": [
        {
          "output_type": "execute_result",
          "data": {
            "text/plain": [
              "array([[ 6,  7,  8,  9, 10],\n",
              "       [16, 17, 18, 19, 20]])"
            ]
          },
          "metadata": {
            "tags": []
          },
          "execution_count": 10
        }
      ]
    },
    {
      "cell_type": "markdown",
      "metadata": {
        "id": "rTer87c1av7i",
        "colab_type": "text"
      },
      "source": [
        "### Summary"
      ]
    },
    {
      "cell_type": "markdown",
      "metadata": {
        "id": "47Acn3Tuav7j",
        "colab_type": "text"
      },
      "source": [
        "In this lesson we saw how to filter data in a multidimensional array.  We do so by taking advantage of boolean indexing in Numpy, which allows us to select from an array by passing through True or False value, for the corresponding entries that we wish to return."
      ]
    },
    {
      "cell_type": "code",
      "metadata": {
        "id": "etCDP_u3av7j",
        "colab_type": "code",
        "outputId": "fc50a2d1-fb0d-4453-a797-5b81142e4395",
        "colab": {}
      },
      "source": [
        "increasing_grid"
      ],
      "execution_count": 0,
      "outputs": [
        {
          "output_type": "execute_result",
          "data": {
            "text/plain": [
              "array([[ 1,  2,  3,  4,  5],\n",
              "       [ 6,  7,  8,  9, 10],\n",
              "       [11, 12, 13, 14, 15],\n",
              "       [16, 17, 18, 19, 20],\n",
              "       [21, 22, 23, 24, 25]])"
            ]
          },
          "metadata": {
            "tags": []
          },
          "execution_count": 87
        }
      ]
    },
    {
      "cell_type": "code",
      "metadata": {
        "id": "nPk3yiAyav7m",
        "colab_type": "code",
        "colab": {}
      },
      "source": [
        "bool_vals = np.array([ True, False,  True, False,  True])"
      ],
      "execution_count": 0,
      "outputs": []
    },
    {
      "cell_type": "code",
      "metadata": {
        "id": "83aooD6Bav7n",
        "colab_type": "code",
        "outputId": "3c777234-9ac5-42b5-df92-92607d57afb5",
        "colab": {}
      },
      "source": [
        "increasing_grid[bool_vals]"
      ],
      "execution_count": 0,
      "outputs": [
        {
          "output_type": "execute_result",
          "data": {
            "text/plain": [
              "array([[ 1,  2,  3,  4,  5],\n",
              "       [11, 12, 13, 14, 15],\n",
              "       [21, 22, 23, 24, 25]])"
            ]
          },
          "metadata": {
            "tags": []
          },
          "execution_count": 89
        }
      ]
    },
    {
      "cell_type": "markdown",
      "metadata": {
        "id": "r0sYnBLmav7q",
        "colab_type": "text"
      },
      "source": [
        "It also uses broadcasting, so we can check whether multiple elements match or do not match some criteria."
      ]
    },
    {
      "cell_type": "code",
      "metadata": {
        "id": "AVt9Sh_Wav7r",
        "colab_type": "code",
        "outputId": "4caa37b4-c308-4c1c-956d-cff39b6f734d",
        "colab": {}
      },
      "source": [
        "increasing_grid[:, 0] < 10"
      ],
      "execution_count": 0,
      "outputs": [
        {
          "output_type": "execute_result",
          "data": {
            "text/plain": [
              "array([ True,  True, False, False, False])"
            ]
          },
          "metadata": {
            "tags": []
          },
          "execution_count": 90
        }
      ]
    },
    {
      "cell_type": "markdown",
      "metadata": {
        "id": "eGyfEYwIav7t",
        "colab_type": "text"
      },
      "source": [
        "And then combines the two to filter entire rows."
      ]
    },
    {
      "cell_type": "code",
      "metadata": {
        "id": "EJRtJ4npav7t",
        "colab_type": "code",
        "outputId": "33cfe5f3-aea2-4d55-92e8-379136da1919",
        "colab": {}
      },
      "source": [
        "increasing_grid[increasing_grid[:, 0] < 10]"
      ],
      "execution_count": 0,
      "outputs": [
        {
          "output_type": "execute_result",
          "data": {
            "text/plain": [
              "array([[ 1,  2,  3,  4,  5],\n",
              "       [ 6,  7,  8,  9, 10]])"
            ]
          },
          "metadata": {
            "tags": []
          },
          "execution_count": 91
        }
      ]
    },
    {
      "cell_type": "markdown",
      "metadata": {
        "id": "bpfB5rdEav7v",
        "colab_type": "text"
      },
      "source": [
        "### Solutions"
      ]
    },
    {
      "cell_type": "code",
      "metadata": {
        "id": "0YEedVDmav7w",
        "colab_type": "code",
        "colab": {}
      },
      "source": [
        "increasing_grid[increasing_grid[:, -1] == 20]"
      ],
      "execution_count": 0,
      "outputs": []
    },
    {
      "cell_type": "markdown",
      "metadata": {
        "id": "-BdOD0H5av71",
        "colab_type": "text"
      },
      "source": [
        "### Resources\n",
        "\n",
        "[Replace corrupted text](https://stackoverflow.com/questions/26541968/delete-every-non-utf-8-symbols-from-string)\n",
        "\n",
        "[Numpy filtering](http://heydenberk.com/blog/posts/demystifying-pandas-numpy-filtering/)"
      ]
    }
  ]
}